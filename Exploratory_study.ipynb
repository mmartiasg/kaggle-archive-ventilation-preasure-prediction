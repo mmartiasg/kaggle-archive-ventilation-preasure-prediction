{
 "cells": [
  {
   "cell_type": "code",
   "execution_count": 1,
   "id": "b18f3d47",
   "metadata": {
    "execution": {
     "iopub.execute_input": "2021-10-27T12:33:27.190279Z",
     "iopub.status.busy": "2021-10-27T12:33:27.188811Z",
     "iopub.status.idle": "2021-10-27T12:33:31.773165Z",
     "shell.execute_reply": "2021-10-27T12:33:31.772571Z"
    },
    "papermill": {
     "duration": 4.624414,
     "end_time": "2021-10-27T12:33:31.773312",
     "exception": false,
     "start_time": "2021-10-27T12:33:27.148898",
     "status": "completed"
    },
    "tags": []
   },
   "outputs": [
    {
     "name": "stderr",
     "output_type": "stream",
     "text": [
      "2021-10-27 12:33:27.722651: I tensorflow/stream_executor/platform/default/dso_loader.cc:49] Successfully opened dynamic library libcudart.so.11.0\n"
     ]
    }
   ],
   "source": [
    "import pandas as pd\n",
    "import numpy as np\n",
    "import tensorflow as tf\n",
    "import matplotlib.pyplot as plt"
   ]
  },
  {
   "cell_type": "code",
   "execution_count": 3,
   "id": "52c6e2b5",
   "metadata": {
    "execution": {
     "iopub.execute_input": "2021-10-27T12:33:31.919718Z",
     "iopub.status.busy": "2021-10-27T12:33:31.919094Z",
     "iopub.status.idle": "2021-10-27T12:33:43.407797Z",
     "shell.execute_reply": "2021-10-27T12:33:43.407310Z"
    },
    "papermill": {
     "duration": 11.526498,
     "end_time": "2021-10-27T12:33:43.407944",
     "exception": false,
     "start_time": "2021-10-27T12:33:31.881446",
     "status": "completed"
    },
    "tags": []
   },
   "outputs": [],
   "source": [
    "train_df = pd.read_csv(\"datasets/ventilation/train.csv\")\n",
    "test_df = pd.read_csv(\"datasets/ventilation/test.csv\")"
   ]
  },
  {
   "cell_type": "code",
   "execution_count": 4,
   "id": "d51cee63",
   "metadata": {
    "execution": {
     "iopub.execute_input": "2021-10-27T12:33:43.498667Z",
     "iopub.status.busy": "2021-10-27T12:33:43.497094Z",
     "iopub.status.idle": "2021-10-27T12:33:43.501116Z",
     "shell.execute_reply": "2021-10-27T12:33:43.500674Z"
    },
    "papermill": {
     "duration": 0.059091,
     "end_time": "2021-10-27T12:33:43.501221",
     "exception": false,
     "start_time": "2021-10-27T12:33:43.442130",
     "status": "completed"
    },
    "tags": []
   },
   "outputs": [
    {
     "name": "stdout",
     "output_type": "stream",
     "text": [
      "<class 'pandas.core.frame.DataFrame'>\n",
      "RangeIndex: 4024000 entries, 0 to 4023999\n",
      "Data columns (total 7 columns):\n",
      " #   Column     Dtype  \n",
      "---  ------     -----  \n",
      " 0   id         int64  \n",
      " 1   breath_id  int64  \n",
      " 2   R          int64  \n",
      " 3   C          int64  \n",
      " 4   time_step  float64\n",
      " 5   u_in       float64\n",
      " 6   u_out      int64  \n",
      "dtypes: float64(2), int64(5)\n",
      "memory usage: 214.9 MB\n"
     ]
    }
   ],
   "source": [
    "test_df.info()"
   ]
  },
  {
   "cell_type": "code",
   "execution_count": 5,
   "id": "ecec6a07",
   "metadata": {
    "execution": {
     "iopub.execute_input": "2021-10-27T12:33:43.578995Z",
     "iopub.status.busy": "2021-10-27T12:33:43.578451Z",
     "iopub.status.idle": "2021-10-27T12:33:43.583818Z",
     "shell.execute_reply": "2021-10-27T12:33:43.583238Z"
    },
    "papermill": {
     "duration": 0.048516,
     "end_time": "2021-10-27T12:33:43.583966",
     "exception": false,
     "start_time": "2021-10-27T12:33:43.535450",
     "status": "completed"
    },
    "tags": []
   },
   "outputs": [
    {
     "name": "stdout",
     "output_type": "stream",
     "text": [
      "<class 'pandas.core.frame.DataFrame'>\n",
      "RangeIndex: 6036000 entries, 0 to 6035999\n",
      "Data columns (total 8 columns):\n",
      " #   Column     Dtype  \n",
      "---  ------     -----  \n",
      " 0   id         int64  \n",
      " 1   breath_id  int64  \n",
      " 2   R          int64  \n",
      " 3   C          int64  \n",
      " 4   time_step  float64\n",
      " 5   u_in       float64\n",
      " 6   u_out      int64  \n",
      " 7   pressure   float64\n",
      "dtypes: float64(3), int64(5)\n",
      "memory usage: 368.4 MB\n"
     ]
    }
   ],
   "source": [
    "train_df.info()"
   ]
  },
  {
   "cell_type": "code",
   "execution_count": 6,
   "id": "8a0f1426",
   "metadata": {
    "execution": {
     "iopub.execute_input": "2021-10-27T12:33:43.659068Z",
     "iopub.status.busy": "2021-10-27T12:33:43.658332Z",
     "iopub.status.idle": "2021-10-27T12:33:43.672074Z",
     "shell.execute_reply": "2021-10-27T12:33:43.672461Z"
    },
    "papermill": {
     "duration": 0.053134,
     "end_time": "2021-10-27T12:33:43.672609",
     "exception": false,
     "start_time": "2021-10-27T12:33:43.619475",
     "status": "completed"
    },
    "tags": []
   },
   "outputs": [
    {
     "data": {
      "text/html": [
       "<div>\n",
       "<style scoped>\n",
       "    .dataframe tbody tr th:only-of-type {\n",
       "        vertical-align: middle;\n",
       "    }\n",
       "\n",
       "    .dataframe tbody tr th {\n",
       "        vertical-align: top;\n",
       "    }\n",
       "\n",
       "    .dataframe thead th {\n",
       "        text-align: right;\n",
       "    }\n",
       "</style>\n",
       "<table border=\"1\" class=\"dataframe\">\n",
       "  <thead>\n",
       "    <tr style=\"text-align: right;\">\n",
       "      <th></th>\n",
       "      <th>id</th>\n",
       "      <th>breath_id</th>\n",
       "      <th>R</th>\n",
       "      <th>C</th>\n",
       "      <th>time_step</th>\n",
       "      <th>u_in</th>\n",
       "      <th>u_out</th>\n",
       "      <th>pressure</th>\n",
       "    </tr>\n",
       "  </thead>\n",
       "  <tbody>\n",
       "    <tr>\n",
       "      <th>0</th>\n",
       "      <td>1</td>\n",
       "      <td>1</td>\n",
       "      <td>20</td>\n",
       "      <td>50</td>\n",
       "      <td>0.000000</td>\n",
       "      <td>0.083334</td>\n",
       "      <td>0</td>\n",
       "      <td>5.837492</td>\n",
       "    </tr>\n",
       "    <tr>\n",
       "      <th>1</th>\n",
       "      <td>2</td>\n",
       "      <td>1</td>\n",
       "      <td>20</td>\n",
       "      <td>50</td>\n",
       "      <td>0.033652</td>\n",
       "      <td>18.383041</td>\n",
       "      <td>0</td>\n",
       "      <td>5.907794</td>\n",
       "    </tr>\n",
       "    <tr>\n",
       "      <th>2</th>\n",
       "      <td>3</td>\n",
       "      <td>1</td>\n",
       "      <td>20</td>\n",
       "      <td>50</td>\n",
       "      <td>0.067514</td>\n",
       "      <td>22.509278</td>\n",
       "      <td>0</td>\n",
       "      <td>7.876254</td>\n",
       "    </tr>\n",
       "    <tr>\n",
       "      <th>3</th>\n",
       "      <td>4</td>\n",
       "      <td>1</td>\n",
       "      <td>20</td>\n",
       "      <td>50</td>\n",
       "      <td>0.101542</td>\n",
       "      <td>22.808822</td>\n",
       "      <td>0</td>\n",
       "      <td>11.742872</td>\n",
       "    </tr>\n",
       "    <tr>\n",
       "      <th>4</th>\n",
       "      <td>5</td>\n",
       "      <td>1</td>\n",
       "      <td>20</td>\n",
       "      <td>50</td>\n",
       "      <td>0.135756</td>\n",
       "      <td>25.355850</td>\n",
       "      <td>0</td>\n",
       "      <td>12.234987</td>\n",
       "    </tr>\n",
       "  </tbody>\n",
       "</table>\n",
       "</div>"
      ],
      "text/plain": [
       "   id  breath_id   R   C  time_step       u_in  u_out   pressure\n",
       "0   1          1  20  50   0.000000   0.083334      0   5.837492\n",
       "1   2          1  20  50   0.033652  18.383041      0   5.907794\n",
       "2   3          1  20  50   0.067514  22.509278      0   7.876254\n",
       "3   4          1  20  50   0.101542  22.808822      0  11.742872\n",
       "4   5          1  20  50   0.135756  25.355850      0  12.234987"
      ]
     },
     "execution_count": 6,
     "metadata": {},
     "output_type": "execute_result"
    }
   ],
   "source": [
    "train_df.head()"
   ]
  },
  {
   "cell_type": "code",
   "execution_count": 7,
   "id": "5a5c77a4",
   "metadata": {
    "execution": {
     "iopub.execute_input": "2021-10-27T12:33:43.874627Z",
     "iopub.status.busy": "2021-10-27T12:33:43.873616Z",
     "iopub.status.idle": "2021-10-27T12:33:44.917921Z",
     "shell.execute_reply": "2021-10-27T12:33:44.917381Z"
    },
    "papermill": {
     "duration": 1.210409,
     "end_time": "2021-10-27T12:33:44.918065",
     "exception": false,
     "start_time": "2021-10-27T12:33:43.707656",
     "status": "completed"
    },
    "tags": []
   },
   "outputs": [
    {
     "data": {
      "text/html": [
       "<div>\n",
       "<style scoped>\n",
       "    .dataframe tbody tr th:only-of-type {\n",
       "        vertical-align: middle;\n",
       "    }\n",
       "\n",
       "    .dataframe tbody tr th {\n",
       "        vertical-align: top;\n",
       "    }\n",
       "\n",
       "    .dataframe thead th {\n",
       "        text-align: right;\n",
       "    }\n",
       "</style>\n",
       "<table border=\"1\" class=\"dataframe\">\n",
       "  <thead>\n",
       "    <tr style=\"text-align: right;\">\n",
       "      <th></th>\n",
       "      <th>count</th>\n",
       "      <th>mean</th>\n",
       "      <th>std</th>\n",
       "      <th>min</th>\n",
       "      <th>25%</th>\n",
       "      <th>50%</th>\n",
       "      <th>75%</th>\n",
       "      <th>max</th>\n",
       "    </tr>\n",
       "  </thead>\n",
       "  <tbody>\n",
       "    <tr>\n",
       "      <th>id</th>\n",
       "      <td>6036000.0</td>\n",
       "      <td>3.018000e+06</td>\n",
       "      <td>1.742443e+06</td>\n",
       "      <td>1.000000</td>\n",
       "      <td>1.509001e+06</td>\n",
       "      <td>3.018000e+06</td>\n",
       "      <td>4.527000e+06</td>\n",
       "      <td>6.036000e+06</td>\n",
       "    </tr>\n",
       "    <tr>\n",
       "      <th>breath_id</th>\n",
       "      <td>6036000.0</td>\n",
       "      <td>6.283886e+04</td>\n",
       "      <td>3.633526e+04</td>\n",
       "      <td>1.000000</td>\n",
       "      <td>3.137700e+04</td>\n",
       "      <td>6.276550e+04</td>\n",
       "      <td>9.430100e+04</td>\n",
       "      <td>1.257490e+05</td>\n",
       "    </tr>\n",
       "    <tr>\n",
       "      <th>R</th>\n",
       "      <td>6036000.0</td>\n",
       "      <td>2.703618e+01</td>\n",
       "      <td>1.959549e+01</td>\n",
       "      <td>5.000000</td>\n",
       "      <td>5.000000e+00</td>\n",
       "      <td>2.000000e+01</td>\n",
       "      <td>5.000000e+01</td>\n",
       "      <td>5.000000e+01</td>\n",
       "    </tr>\n",
       "    <tr>\n",
       "      <th>C</th>\n",
       "      <td>6036000.0</td>\n",
       "      <td>2.608072e+01</td>\n",
       "      <td>1.715231e+01</td>\n",
       "      <td>10.000000</td>\n",
       "      <td>1.000000e+01</td>\n",
       "      <td>2.000000e+01</td>\n",
       "      <td>5.000000e+01</td>\n",
       "      <td>5.000000e+01</td>\n",
       "    </tr>\n",
       "    <tr>\n",
       "      <th>time_step</th>\n",
       "      <td>6036000.0</td>\n",
       "      <td>1.307225e+00</td>\n",
       "      <td>7.659778e-01</td>\n",
       "      <td>0.000000</td>\n",
       "      <td>6.428995e-01</td>\n",
       "      <td>1.308123e+00</td>\n",
       "      <td>1.965502e+00</td>\n",
       "      <td>2.937238e+00</td>\n",
       "    </tr>\n",
       "    <tr>\n",
       "      <th>u_in</th>\n",
       "      <td>6036000.0</td>\n",
       "      <td>7.321615e+00</td>\n",
       "      <td>1.343470e+01</td>\n",
       "      <td>0.000000</td>\n",
       "      <td>3.936623e-01</td>\n",
       "      <td>4.386146e+00</td>\n",
       "      <td>4.983895e+00</td>\n",
       "      <td>1.000000e+02</td>\n",
       "    </tr>\n",
       "    <tr>\n",
       "      <th>u_out</th>\n",
       "      <td>6036000.0</td>\n",
       "      <td>6.204493e-01</td>\n",
       "      <td>4.852752e-01</td>\n",
       "      <td>0.000000</td>\n",
       "      <td>0.000000e+00</td>\n",
       "      <td>1.000000e+00</td>\n",
       "      <td>1.000000e+00</td>\n",
       "      <td>1.000000e+00</td>\n",
       "    </tr>\n",
       "    <tr>\n",
       "      <th>pressure</th>\n",
       "      <td>6036000.0</td>\n",
       "      <td>1.122041e+01</td>\n",
       "      <td>8.109703e+00</td>\n",
       "      <td>-1.895744</td>\n",
       "      <td>6.329607e+00</td>\n",
       "      <td>7.032628e+00</td>\n",
       "      <td>1.364103e+01</td>\n",
       "      <td>6.482099e+01</td>\n",
       "    </tr>\n",
       "  </tbody>\n",
       "</table>\n",
       "</div>"
      ],
      "text/plain": [
       "               count          mean           std        min           25%  \\\n",
       "id         6036000.0  3.018000e+06  1.742443e+06   1.000000  1.509001e+06   \n",
       "breath_id  6036000.0  6.283886e+04  3.633526e+04   1.000000  3.137700e+04   \n",
       "R          6036000.0  2.703618e+01  1.959549e+01   5.000000  5.000000e+00   \n",
       "C          6036000.0  2.608072e+01  1.715231e+01  10.000000  1.000000e+01   \n",
       "time_step  6036000.0  1.307225e+00  7.659778e-01   0.000000  6.428995e-01   \n",
       "u_in       6036000.0  7.321615e+00  1.343470e+01   0.000000  3.936623e-01   \n",
       "u_out      6036000.0  6.204493e-01  4.852752e-01   0.000000  0.000000e+00   \n",
       "pressure   6036000.0  1.122041e+01  8.109703e+00  -1.895744  6.329607e+00   \n",
       "\n",
       "                    50%           75%           max  \n",
       "id         3.018000e+06  4.527000e+06  6.036000e+06  \n",
       "breath_id  6.276550e+04  9.430100e+04  1.257490e+05  \n",
       "R          2.000000e+01  5.000000e+01  5.000000e+01  \n",
       "C          2.000000e+01  5.000000e+01  5.000000e+01  \n",
       "time_step  1.308123e+00  1.965502e+00  2.937238e+00  \n",
       "u_in       4.386146e+00  4.983895e+00  1.000000e+02  \n",
       "u_out      1.000000e+00  1.000000e+00  1.000000e+00  \n",
       "pressure   7.032628e+00  1.364103e+01  6.482099e+01  "
      ]
     },
     "execution_count": 7,
     "metadata": {},
     "output_type": "execute_result"
    }
   ],
   "source": [
    "train_df.describe().T"
   ]
  },
  {
   "cell_type": "markdown",
   "id": "59cc2c76",
   "metadata": {
    "papermill": {
     "duration": 0.03511,
     "end_time": "2021-10-27T12:33:44.988964",
     "exception": false,
     "start_time": "2021-10-27T12:33:44.953854",
     "status": "completed"
    },
    "tags": []
   },
   "source": [
    "R distribution and C\n",
    "Lung attribute indicating how restricted the airway is\n",
    "\n",
    "C - lung attribute indicating how compliant the lung is (in mL/cmH2O).\n",
    "Physically, this is the change in volume per change in pressure. Intuitively, one can imagine the same balloon example. We can change C by changing the thickness of the balloon’s latex, with higher C having thinner latex and easier to blow.\n",
    "\n",
    "\n",
    "                         Normal lungs\tARDS\n",
    "    Compliance (ml/cmH2O)\t50–60\t35–45\n",
    "    Resistance (cmH2O/(l/s))\t10–15\t10–15\n",
    "    Expiratory time constant (s)\t0.5–0.7\t0.4–0.6\n",
    "\n"
   ]
  },
  {
   "cell_type": "code",
   "execution_count": 8,
   "id": "9635591a",
   "metadata": {
    "execution": {
     "iopub.execute_input": "2021-10-27T12:33:45.065194Z",
     "iopub.status.busy": "2021-10-27T12:33:45.064186Z",
     "iopub.status.idle": "2021-10-27T12:33:45.147688Z",
     "shell.execute_reply": "2021-10-27T12:33:45.147246Z"
    },
    "papermill": {
     "duration": 0.122443,
     "end_time": "2021-10-27T12:33:45.147816",
     "exception": false,
     "start_time": "2021-10-27T12:33:45.025373",
     "status": "completed"
    },
    "tags": []
   },
   "outputs": [
    {
     "data": {
      "text/html": [
       "<div>\n",
       "<style scoped>\n",
       "    .dataframe tbody tr th:only-of-type {\n",
       "        vertical-align: middle;\n",
       "    }\n",
       "\n",
       "    .dataframe tbody tr th {\n",
       "        vertical-align: top;\n",
       "    }\n",
       "\n",
       "    .dataframe thead th {\n",
       "        text-align: right;\n",
       "    }\n",
       "</style>\n",
       "<table border=\"1\" class=\"dataframe\">\n",
       "  <thead>\n",
       "    <tr style=\"text-align: right;\">\n",
       "      <th></th>\n",
       "      <th>id</th>\n",
       "      <th>breath_id</th>\n",
       "      <th>R</th>\n",
       "      <th>C</th>\n",
       "      <th>time_step</th>\n",
       "      <th>u_in</th>\n",
       "      <th>u_out</th>\n",
       "      <th>pressure</th>\n",
       "    </tr>\n",
       "  </thead>\n",
       "  <tbody>\n",
       "    <tr>\n",
       "      <th>28720</th>\n",
       "      <td>28721</td>\n",
       "      <td>542</td>\n",
       "      <td>50</td>\n",
       "      <td>10</td>\n",
       "      <td>0.000000</td>\n",
       "      <td>0.000000</td>\n",
       "      <td>0</td>\n",
       "      <td>-1.825442</td>\n",
       "    </tr>\n",
       "    <tr>\n",
       "      <th>28721</th>\n",
       "      <td>28722</td>\n",
       "      <td>542</td>\n",
       "      <td>50</td>\n",
       "      <td>10</td>\n",
       "      <td>0.033468</td>\n",
       "      <td>0.074189</td>\n",
       "      <td>0</td>\n",
       "      <td>-1.825442</td>\n",
       "    </tr>\n",
       "    <tr>\n",
       "      <th>28722</th>\n",
       "      <td>28723</td>\n",
       "      <td>542</td>\n",
       "      <td>50</td>\n",
       "      <td>10</td>\n",
       "      <td>0.066892</td>\n",
       "      <td>0.143197</td>\n",
       "      <td>0</td>\n",
       "      <td>-1.755140</td>\n",
       "    </tr>\n",
       "    <tr>\n",
       "      <th>28723</th>\n",
       "      <td>28724</td>\n",
       "      <td>542</td>\n",
       "      <td>50</td>\n",
       "      <td>10</td>\n",
       "      <td>0.100245</td>\n",
       "      <td>0.208192</td>\n",
       "      <td>0</td>\n",
       "      <td>-1.825442</td>\n",
       "    </tr>\n",
       "    <tr>\n",
       "      <th>28724</th>\n",
       "      <td>28725</td>\n",
       "      <td>542</td>\n",
       "      <td>50</td>\n",
       "      <td>10</td>\n",
       "      <td>0.133618</td>\n",
       "      <td>0.268278</td>\n",
       "      <td>0</td>\n",
       "      <td>-1.684838</td>\n",
       "    </tr>\n",
       "    <tr>\n",
       "      <th>...</th>\n",
       "      <td>...</td>\n",
       "      <td>...</td>\n",
       "      <td>...</td>\n",
       "      <td>...</td>\n",
       "      <td>...</td>\n",
       "      <td>...</td>\n",
       "      <td>...</td>\n",
       "      <td>...</td>\n",
       "    </tr>\n",
       "    <tr>\n",
       "      <th>5979915</th>\n",
       "      <td>5979916</td>\n",
       "      <td>124575</td>\n",
       "      <td>50</td>\n",
       "      <td>10</td>\n",
       "      <td>2.504311</td>\n",
       "      <td>0.057006</td>\n",
       "      <td>1</td>\n",
       "      <td>-0.700608</td>\n",
       "    </tr>\n",
       "    <tr>\n",
       "      <th>5979916</th>\n",
       "      <td>5979917</td>\n",
       "      <td>124575</td>\n",
       "      <td>50</td>\n",
       "      <td>10</td>\n",
       "      <td>2.537637</td>\n",
       "      <td>0.057709</td>\n",
       "      <td>1</td>\n",
       "      <td>-0.770910</td>\n",
       "    </tr>\n",
       "    <tr>\n",
       "      <th>5979917</th>\n",
       "      <td>5979918</td>\n",
       "      <td>124575</td>\n",
       "      <td>50</td>\n",
       "      <td>10</td>\n",
       "      <td>2.570976</td>\n",
       "      <td>0.058412</td>\n",
       "      <td>1</td>\n",
       "      <td>-0.841212</td>\n",
       "    </tr>\n",
       "    <tr>\n",
       "      <th>5979918</th>\n",
       "      <td>5979919</td>\n",
       "      <td>124575</td>\n",
       "      <td>50</td>\n",
       "      <td>10</td>\n",
       "      <td>2.604315</td>\n",
       "      <td>0.057709</td>\n",
       "      <td>1</td>\n",
       "      <td>-0.770910</td>\n",
       "    </tr>\n",
       "    <tr>\n",
       "      <th>5979919</th>\n",
       "      <td>5979920</td>\n",
       "      <td>124575</td>\n",
       "      <td>50</td>\n",
       "      <td>10</td>\n",
       "      <td>2.637721</td>\n",
       "      <td>0.058412</td>\n",
       "      <td>1</td>\n",
       "      <td>-0.841212</td>\n",
       "    </tr>\n",
       "  </tbody>\n",
       "</table>\n",
       "<p>3713 rows × 8 columns</p>\n",
       "</div>"
      ],
      "text/plain": [
       "              id  breath_id   R   C  time_step      u_in  u_out  pressure\n",
       "28720      28721        542  50  10   0.000000  0.000000      0 -1.825442\n",
       "28721      28722        542  50  10   0.033468  0.074189      0 -1.825442\n",
       "28722      28723        542  50  10   0.066892  0.143197      0 -1.755140\n",
       "28723      28724        542  50  10   0.100245  0.208192      0 -1.825442\n",
       "28724      28725        542  50  10   0.133618  0.268278      0 -1.684838\n",
       "...          ...        ...  ..  ..        ...       ...    ...       ...\n",
       "5979915  5979916     124575  50  10   2.504311  0.057006      1 -0.700608\n",
       "5979916  5979917     124575  50  10   2.537637  0.057709      1 -0.770910\n",
       "5979917  5979918     124575  50  10   2.570976  0.058412      1 -0.841212\n",
       "5979918  5979919     124575  50  10   2.604315  0.057709      1 -0.770910\n",
       "5979919  5979920     124575  50  10   2.637721  0.058412      1 -0.841212\n",
       "\n",
       "[3713 rows x 8 columns]"
      ]
     },
     "execution_count": 8,
     "metadata": {},
     "output_type": "execute_result"
    }
   ],
   "source": [
    "train_df.query(\"pressure<0\")"
   ]
  },
  {
   "cell_type": "code",
   "execution_count": 9,
   "id": "3f273f80",
   "metadata": {
    "execution": {
     "iopub.execute_input": "2021-10-27T12:33:45.256025Z",
     "iopub.status.busy": "2021-10-27T12:33:45.254971Z",
     "iopub.status.idle": "2021-10-27T12:33:47.168162Z",
     "shell.execute_reply": "2021-10-27T12:33:47.168820Z"
    },
    "papermill": {
     "duration": 1.984761,
     "end_time": "2021-10-27T12:33:47.168990",
     "exception": false,
     "start_time": "2021-10-27T12:33:45.184229",
     "status": "completed"
    },
    "tags": []
   },
   "outputs": [
    {
     "data": {
      "text/plain": [
       "<AxesSubplot:>"
      ]
     },
     "execution_count": 9,
     "metadata": {},
     "output_type": "execute_result"
    },
    {
     "data": {
      "image/png": "[encoded data removed]",
      "text/plain": [
       "<Figure size 432x288 with 1 Axes>"
      ]
     },
     "metadata": {
      "needs_background": "light"
     },
     "output_type": "display_data"
    }
   ],
   "source": [
    "train_df[['R', 'C', 'pressure']].plot(kind='box')"
   ]
  },
  {
   "cell_type": "code",
   "execution_count": 10,
   "id": "2045702d",
   "metadata": {
    "execution": {
     "iopub.execute_input": "2021-10-27T12:33:47.247168Z",
     "iopub.status.busy": "2021-10-27T12:33:47.246356Z",
     "iopub.status.idle": "2021-10-27T12:33:47.407900Z",
     "shell.execute_reply": "2021-10-27T12:33:47.408329Z"
    },
    "papermill": {
     "duration": 0.20222,
     "end_time": "2021-10-27T12:33:47.408490",
     "exception": false,
     "start_time": "2021-10-27T12:33:47.206270",
     "status": "completed"
    },
    "tags": []
   },
   "outputs": [
    {
     "name": "stderr",
     "output_type": "stream",
     "text": [
      "/opt/conda/lib/python3.7/site-packages/pandas/core/arraylike.py:358: RuntimeWarning: invalid value encountered in log\n",
      "  result = getattr(ufunc, method)(*inputs, **kwargs)\n"
     ]
    }
   ],
   "source": [
    "train_df['log_pressure'] = np.log(train_df['pressure']+0.1)"
   ]
  },
  {
   "cell_type": "code",
   "execution_count": 11,
   "id": "cc0fa3b8",
   "metadata": {
    "execution": {
     "iopub.execute_input": "2021-10-27T12:33:47.488911Z",
     "iopub.status.busy": "2021-10-27T12:33:47.487800Z",
     "iopub.status.idle": "2021-10-27T12:33:48.676122Z",
     "shell.execute_reply": "2021-10-27T12:33:48.675189Z"
    },
    "papermill": {
     "duration": 1.230485,
     "end_time": "2021-10-27T12:33:48.676271",
     "exception": false,
     "start_time": "2021-10-27T12:33:47.445786",
     "status": "completed"
    },
    "tags": []
   },
   "outputs": [
    {
     "data": {
      "text/plain": [
       "<AxesSubplot:>"
      ]
     },
     "execution_count": 11,
     "metadata": {},
     "output_type": "execute_result"
    },
    {
     "data": {
      "image/png": "[encoded data removed]",
      "text/plain": [
       "<Figure size 432x288 with 1 Axes>"
      ]
     },
     "metadata": {
      "needs_background": "light"
     },
     "output_type": "display_data"
    }
   ],
   "source": [
    "train_df[['R', 'C', 'log_pressure']].plot(kind='box')"
   ]
  },
  {
   "cell_type": "code",
   "execution_count": 12,
   "id": "dd02990d",
   "metadata": {
    "execution": {
     "iopub.execute_input": "2021-10-27T12:33:48.757793Z",
     "iopub.status.busy": "2021-10-27T12:33:48.756243Z",
     "iopub.status.idle": "2021-10-27T12:33:48.758434Z",
     "shell.execute_reply": "2021-10-27T12:33:48.758864Z"
    },
    "papermill": {
     "duration": 0.044207,
     "end_time": "2021-10-27T12:33:48.758995",
     "exception": false,
     "start_time": "2021-10-27T12:33:48.714788",
     "status": "completed"
    },
    "tags": []
   },
   "outputs": [],
   "source": [
    "# u_in goes from 0 to 100.\n",
    "# u_out foes from 0 to 1."
   ]
  },
  {
   "cell_type": "code",
   "execution_count": 13,
   "id": "22970e84",
   "metadata": {
    "execution": {
     "iopub.execute_input": "2021-10-27T12:33:48.842186Z",
     "iopub.status.busy": "2021-10-27T12:33:48.841067Z",
     "iopub.status.idle": "2021-10-27T12:33:49.074477Z",
     "shell.execute_reply": "2021-10-27T12:33:49.074967Z"
    },
    "papermill": {
     "duration": 0.278082,
     "end_time": "2021-10-27T12:33:49.075142",
     "exception": false,
     "start_time": "2021-10-27T12:33:48.797060",
     "status": "completed"
    },
    "tags": []
   },
   "outputs": [
    {
     "data": {
      "text/plain": [
       "[<matplotlib.lines.Line2D at 0x7fc774719290>]"
      ]
     },
     "execution_count": 13,
     "metadata": {},
     "output_type": "execute_result"
    },
    {
     "data": {
      "image/png": "[encoded data removed]",
      "text/plain": [
       "<Figure size 432x288 with 1 Axes>"
      ]
     },
     "metadata": {
      "needs_background": "light"
     },
     "output_type": "display_data"
    }
   ],
   "source": [
    "breath_sample = train_df.query(\"breath_id==10\").sort_values(by='time_step')\n",
    "\n",
    "selonid_in_valve = breath_sample.u_in\n",
    "\n",
    "plt.plot(breath_sample.time_step, breath_sample.pressure)\n",
    "\n",
    "plt.plot(breath_sample.time_step, breath_sample.u_in)\n",
    "\n",
    "plt.plot(breath_sample.time_step, breath_sample.u_out)\n",
    "\n",
    "plt.plot(breath_sample.time_step, breath_sample.R)\n",
    "\n",
    "plt.plot(breath_sample.time_step, breath_sample.C)"
   ]
  },
  {
   "cell_type": "code",
   "execution_count": 14,
   "id": "485a0d47",
   "metadata": {
    "execution": {
     "iopub.execute_input": "2021-10-27T12:33:49.160453Z",
     "iopub.status.busy": "2021-10-27T12:33:49.159343Z",
     "iopub.status.idle": "2021-10-27T12:33:49.415501Z",
     "shell.execute_reply": "2021-10-27T12:33:49.416181Z"
    },
    "papermill": {
     "duration": 0.3013,
     "end_time": "2021-10-27T12:33:49.416346",
     "exception": false,
     "start_time": "2021-10-27T12:33:49.115046",
     "status": "completed"
    },
    "tags": []
   },
   "outputs": [
    {
     "data": {
      "text/plain": [
       "<AxesSubplot:>"
      ]
     },
     "execution_count": 14,
     "metadata": {},
     "output_type": "execute_result"
    },
    {
     "data": {
      "image/png": "[encoded data removed]",
      "text/plain": [
       "<Figure size 432x288 with 1 Axes>"
      ]
     },
     "metadata": {
      "needs_background": "light"
     },
     "output_type": "display_data"
    }
   ],
   "source": [
    "train_df.query(\"breath_id==1\").sort_values(['breath_id', 'time_step'],\n",
    "                                           ascending=True)[['u_in']].plot()"
   ]
  },
  {
   "cell_type": "code",
   "execution_count": 15,
   "id": "789a1042",
   "metadata": {
    "execution": {
     "iopub.execute_input": "2021-10-27T12:33:49.511096Z",
     "iopub.status.busy": "2021-10-27T12:33:49.510248Z",
     "iopub.status.idle": "2021-10-27T12:33:50.006819Z",
     "shell.execute_reply": "2021-10-27T12:33:50.006137Z"
    },
    "papermill": {
     "duration": 0.54997,
     "end_time": "2021-10-27T12:33:50.006952",
     "exception": false,
     "start_time": "2021-10-27T12:33:49.456982",
     "status": "completed"
    },
    "tags": []
   },
   "outputs": [
    {
     "data": {
      "text/plain": [
       "(array([[2.899e+03, 1.712e+03, 2.089e+03, ..., 3.100e+01, 8.000e+00,\n",
       "         2.000e+00],\n",
       "        [1.000e+00, 3.400e+01, 3.780e+02, ..., 0.000e+00, 0.000e+00,\n",
       "         0.000e+00],\n",
       "        [0.000e+00, 1.000e+00, 1.780e+02, ..., 0.000e+00, 0.000e+00,\n",
       "         0.000e+00],\n",
       "        ...,\n",
       "        [0.000e+00, 0.000e+00, 0.000e+00, ..., 0.000e+00, 0.000e+00,\n",
       "         0.000e+00],\n",
       "        [0.000e+00, 0.000e+00, 0.000e+00, ..., 0.000e+00, 0.000e+00,\n",
       "         0.000e+00],\n",
       "        [0.000e+00, 0.000e+00, 0.000e+00, ..., 0.000e+00, 0.000e+00,\n",
       "         0.000e+00]]),\n",
       " array([  0.,   2.,   4.,   6.,   8.,  10.,  12.,  14.,  16.,  18.,  20.,\n",
       "         22.,  24.,  26.,  28.,  30.,  32.,  34.,  36.,  38.,  40.,  42.,\n",
       "         44.,  46.,  48.,  50.,  52.,  54.,  56.,  58.,  60.,  62.,  64.,\n",
       "         66.,  68.,  70.,  72.,  74.,  76.,  78.,  80.,  82.,  84.,  86.,\n",
       "         88.,  90.,  92.,  94.,  96.,  98., 100.]),\n",
       " array([-1.89574429, -0.56140957,  0.77292515,  2.10725987,  3.44159459,\n",
       "         4.77592931,  6.11026403,  7.44459875,  8.77893347, 10.11326819,\n",
       "        11.44760291, 12.78193763, 14.11627235, 15.45060707, 16.78494179,\n",
       "        18.11927652, 19.45361124, 20.78794596, 22.12228068, 23.4566154 ,\n",
       "        24.79095012, 26.12528484, 27.45961956, 28.79395428, 30.128289  ,\n",
       "        31.46262372, 32.79695844, 34.13129316, 35.46562788, 36.7999626 ,\n",
       "        38.13429733, 39.46863205, 40.80296677, 42.13730149, 43.47163621,\n",
       "        44.80597093, 46.14030565, 47.47464037, 48.80897509, 50.14330981,\n",
       "        51.47764453, 52.81197925, 54.14631397, 55.48064869, 56.81498341,\n",
       "        58.14931814, 59.48365286, 60.81798758, 62.1523223 , 63.48665702,\n",
       "        64.82099174]),\n",
       " <matplotlib.collections.QuadMesh at 0x7fc7745ae2d0>)"
      ]
     },
     "execution_count": 15,
     "metadata": {},
     "output_type": "execute_result"
    },
    {
     "data": {
      "image/png": "[encoded data removed]",
      "text/plain": [
       "<Figure size 432x288 with 1 Axes>"
      ]
     },
     "metadata": {
      "needs_background": "light"
     },
     "output_type": "display_data"
    }
   ],
   "source": [
    "plt.hist2d(train_df['u_in'], train_df['pressure'], bins=(50, 50), vmax=400)"
   ]
  },
  {
   "cell_type": "code",
   "execution_count": 16,
   "id": "111f751d",
   "metadata": {
    "execution": {
     "iopub.execute_input": "2021-10-27T12:33:50.111251Z",
     "iopub.status.busy": "2021-10-27T12:33:50.110341Z",
     "iopub.status.idle": "2021-10-27T12:33:50.579889Z",
     "shell.execute_reply": "2021-10-27T12:33:50.579328Z"
    },
    "papermill": {
     "duration": 0.530776,
     "end_time": "2021-10-27T12:33:50.580027",
     "exception": false,
     "start_time": "2021-10-27T12:33:50.049251",
     "status": "completed"
    },
    "tags": []
   },
   "outputs": [
    {
     "data": {
      "text/plain": [
       "(array([[1141.,  718., 2406., ...,  264.,  202., 1066.],\n",
       "        [   0.,    0.,    0., ...,    0.,    0.,    0.],\n",
       "        [   0.,    0.,    0., ...,    0.,    0.,    0.],\n",
       "        ...,\n",
       "        [   0.,    0.,    0., ...,    0.,    0.,    0.],\n",
       "        [   0.,    0.,    0., ...,    0.,    0.,    0.],\n",
       "        [1759., 1029., 1011., ...,    0.,    0.,    0.]]),\n",
       " array([0.  , 0.02, 0.04, 0.06, 0.08, 0.1 , 0.12, 0.14, 0.16, 0.18, 0.2 ,\n",
       "        0.22, 0.24, 0.26, 0.28, 0.3 , 0.32, 0.34, 0.36, 0.38, 0.4 , 0.42,\n",
       "        0.44, 0.46, 0.48, 0.5 , 0.52, 0.54, 0.56, 0.58, 0.6 , 0.62, 0.64,\n",
       "        0.66, 0.68, 0.7 , 0.72, 0.74, 0.76, 0.78, 0.8 , 0.82, 0.84, 0.86,\n",
       "        0.88, 0.9 , 0.92, 0.94, 0.96, 0.98, 1.  ]),\n",
       " array([-1.89574429, -0.56140957,  0.77292515,  2.10725987,  3.44159459,\n",
       "         4.77592931,  6.11026403,  7.44459875,  8.77893347, 10.11326819,\n",
       "        11.44760291, 12.78193763, 14.11627235, 15.45060707, 16.78494179,\n",
       "        18.11927652, 19.45361124, 20.78794596, 22.12228068, 23.4566154 ,\n",
       "        24.79095012, 26.12528484, 27.45961956, 28.79395428, 30.128289  ,\n",
       "        31.46262372, 32.79695844, 34.13129316, 35.46562788, 36.7999626 ,\n",
       "        38.13429733, 39.46863205, 40.80296677, 42.13730149, 43.47163621,\n",
       "        44.80597093, 46.14030565, 47.47464037, 48.80897509, 50.14330981,\n",
       "        51.47764453, 52.81197925, 54.14631397, 55.48064869, 56.81498341,\n",
       "        58.14931814, 59.48365286, 60.81798758, 62.1523223 , 63.48665702,\n",
       "        64.82099174]),\n",
       " <matplotlib.collections.QuadMesh at 0x7fc7745282d0>)"
      ]
     },
     "execution_count": 16,
     "metadata": {},
     "output_type": "execute_result"
    },
    {
     "data": {
      "image/png": "[encoded data removed]",
      "text/plain": [
       "<Figure size 432x288 with 1 Axes>"
      ]
     },
     "metadata": {
      "needs_background": "light"
     },
     "output_type": "display_data"
    }
   ],
   "source": [
    "plt.hist2d(train_df['u_out'], train_df['pressure'], bins=(50, 50), vmax=400)"
   ]
  },
  {
   "cell_type": "code",
   "execution_count": 17,
   "id": "3f58ac20",
   "metadata": {
    "execution": {
     "iopub.execute_input": "2021-10-27T12:33:50.669406Z",
     "iopub.status.busy": "2021-10-27T12:33:50.668624Z",
     "iopub.status.idle": "2021-10-27T12:33:50.677384Z",
     "shell.execute_reply": "2021-10-27T12:33:50.676969Z"
    },
    "papermill": {
     "duration": 0.054685,
     "end_time": "2021-10-27T12:33:50.677493",
     "exception": false,
     "start_time": "2021-10-27T12:33:50.622808",
     "status": "completed"
    },
    "tags": []
   },
   "outputs": [],
   "source": [
    "total_u_in = train_df.u_in.max() #per steps"
   ]
  },
  {
   "cell_type": "code",
   "execution_count": 18,
   "id": "7ca103fc",
   "metadata": {
    "execution": {
     "iopub.execute_input": "2021-10-27T12:33:50.769004Z",
     "iopub.status.busy": "2021-10-27T12:33:50.768284Z",
     "iopub.status.idle": "2021-10-27T12:33:50.771225Z",
     "shell.execute_reply": "2021-10-27T12:33:50.770816Z"
    },
    "papermill": {
     "duration": 0.04818,
     "end_time": "2021-10-27T12:33:50.771336",
     "exception": false,
     "start_time": "2021-10-27T12:33:50.723156",
     "status": "completed"
    },
    "tags": []
   },
   "outputs": [],
   "source": [
    "#train"
   ]
  },
  {
   "cell_type": "code",
   "execution_count": 19,
   "id": "eb89b372",
   "metadata": {
    "execution": {
     "iopub.execute_input": "2021-10-27T12:33:50.876832Z",
     "iopub.status.busy": "2021-10-27T12:33:50.875844Z",
     "iopub.status.idle": "2021-10-27T12:33:51.590579Z",
     "shell.execute_reply": "2021-10-27T12:33:51.590097Z"
    },
    "papermill": {
     "duration": 0.776757,
     "end_time": "2021-10-27T12:33:51.590713",
     "exception": false,
     "start_time": "2021-10-27T12:33:50.813956",
     "status": "completed"
    },
    "tags": []
   },
   "outputs": [],
   "source": [
    "#log scale\n",
    "\n",
    "train_df['log_u_in']=np.log(train_df['u_in']+0.001)\n",
    "\n",
    "test_df['log_u_in']=np.log(test_df['u_in']+0.001)\n",
    "\n",
    "train_df['log_R']=np.log(train_df['R']+0.001)\n",
    "\n",
    "test_df['log_R']=np.log(test_df['R']+0.001)\n",
    "\n",
    "train_df['log_C']=np.log(train_df['C']+0.001)\n",
    "\n",
    "test_df['log_C']=np.log(test_df['C']+0.001)"
   ]
  },
  {
   "cell_type": "code",
   "execution_count": 20,
   "id": "ab903573",
   "metadata": {
    "execution": {
     "iopub.execute_input": "2021-10-27T12:33:51.685945Z",
     "iopub.status.busy": "2021-10-27T12:33:51.684787Z",
     "iopub.status.idle": "2021-10-27T12:33:51.707458Z",
     "shell.execute_reply": "2021-10-27T12:33:51.707062Z"
    },
    "papermill": {
     "duration": 0.073737,
     "end_time": "2021-10-27T12:33:51.707599",
     "exception": false,
     "start_time": "2021-10-27T12:33:51.633862",
     "status": "completed"
    },
    "tags": []
   },
   "outputs": [],
   "source": [
    "u_in = train_df['u_in'].copy()\n",
    "\n",
    "u_in_test = test_df['u_in'].copy()"
   ]
  },
  {
   "cell_type": "code",
   "execution_count": 21,
   "id": "5bac4971",
   "metadata": {
    "execution": {
     "iopub.execute_input": "2021-10-27T12:33:51.811759Z",
     "iopub.status.busy": "2021-10-27T12:33:51.810768Z",
     "iopub.status.idle": "2021-10-27T12:33:52.181827Z",
     "shell.execute_reply": "2021-10-27T12:33:52.183002Z"
    },
    "papermill": {
     "duration": 0.432063,
     "end_time": "2021-10-27T12:33:52.183249",
     "exception": false,
     "start_time": "2021-10-27T12:33:51.751186",
     "status": "completed"
    },
    "tags": []
   },
   "outputs": [],
   "source": [
    "#over 3 time steps\n",
    "\n",
    "sin_u_in = u_in*np.sin(2*np.pi*(u_in/3))\n",
    "\n",
    "cos_u_in = u_in*np.cos(2*np.pi*(u_in/3))\n",
    "\n",
    "train_df['sin_u_in'] = sin_u_in\n",
    "\n",
    "train_df['cos_u_in'] = cos_u_in"
   ]
  },
  {
   "cell_type": "code",
   "execution_count": 22,
   "id": "7a7b3bde",
   "metadata": {
    "execution": {
     "iopub.execute_input": "2021-10-27T12:33:52.342130Z",
     "iopub.status.busy": "2021-10-27T12:33:52.341253Z",
     "iopub.status.idle": "2021-10-27T12:33:52.342928Z",
     "shell.execute_reply": "2021-10-27T12:33:52.343684Z"
    },
    "papermill": {
     "duration": 0.078682,
     "end_time": "2021-10-27T12:33:52.343875",
     "exception": false,
     "start_time": "2021-10-27T12:33:52.265193",
     "status": "completed"
    },
    "tags": []
   },
   "outputs": [],
   "source": [
    "#test"
   ]
  },
  {
   "cell_type": "code",
   "execution_count": 23,
   "id": "abcf40e8",
   "metadata": {
    "execution": {
     "iopub.execute_input": "2021-10-27T12:33:52.493163Z",
     "iopub.status.busy": "2021-10-27T12:33:52.492265Z",
     "iopub.status.idle": "2021-10-27T12:33:52.806459Z",
     "shell.execute_reply": "2021-10-27T12:33:52.806007Z"
    },
    "papermill": {
     "duration": 0.390776,
     "end_time": "2021-10-27T12:33:52.806610",
     "exception": false,
     "start_time": "2021-10-27T12:33:52.415834",
     "status": "completed"
    },
    "tags": []
   },
   "outputs": [],
   "source": [
    "sin_u_in_test = u_in_test*np.sin(2*np.pi*(u_in_test/3))\n",
    "\n",
    "cos_u_in_test = u_in_test*np.cos(2*np.pi*(u_in_test/3))\n",
    "\n",
    "test_df['sin_u_in'] = sin_u_in_test\n",
    "\n",
    "test_df['cos_u_in'] = cos_u_in_test"
   ]
  },
  {
   "cell_type": "code",
   "execution_count": 24,
   "id": "ff1a0462",
   "metadata": {
    "execution": {
     "iopub.execute_input": "2021-10-27T12:33:52.899926Z",
     "iopub.status.busy": "2021-10-27T12:33:52.898792Z",
     "iopub.status.idle": "2021-10-27T12:33:53.242546Z",
     "shell.execute_reply": "2021-10-27T12:33:53.242089Z"
    },
    "papermill": {
     "duration": 0.392397,
     "end_time": "2021-10-27T12:33:53.242687",
     "exception": false,
     "start_time": "2021-10-27T12:33:52.850290",
     "status": "completed"
    },
    "tags": []
   },
   "outputs": [],
   "source": [
    "#time_step\n",
    "\n",
    "time_step = train_df['time_step'].copy()\n",
    "\n",
    "sin_time_step = np.sin(2*np.pi*(time_step/3))\n",
    "\n",
    "cos_time_step = np.cos(2*np.pi*(time_step/3))\n",
    "\n",
    "train_df['sin_time_step'] = sin_time_step\n",
    "\n",
    "train_df['cos_time_step'] = cos_time_step"
   ]
  },
  {
   "cell_type": "code",
   "execution_count": 25,
   "id": "00c45edc",
   "metadata": {
    "execution": {
     "iopub.execute_input": "2021-10-27T12:33:53.335741Z",
     "iopub.status.busy": "2021-10-27T12:33:53.334569Z",
     "iopub.status.idle": "2021-10-27T12:33:53.991212Z",
     "shell.execute_reply": "2021-10-27T12:33:53.991644Z"
    },
    "papermill": {
     "duration": 0.704931,
     "end_time": "2021-10-27T12:33:53.991794",
     "exception": false,
     "start_time": "2021-10-27T12:33:53.286863",
     "status": "completed"
    },
    "tags": []
   },
   "outputs": [
    {
     "data": {
      "text/plain": [
       "<AxesSubplot:>"
      ]
     },
     "execution_count": 25,
     "metadata": {},
     "output_type": "execute_result"
    },
    {
     "data": {
      "image/png": "[encoded data removed]",
      "text/plain": [
       "<Figure size 432x288 with 1 Axes>"
      ]
     },
     "metadata": {
      "needs_background": "light"
     },
     "output_type": "display_data"
    }
   ],
   "source": [
    "train_df.query(\"breath_id==1\").sort_values(['breath_id', 'time_step'],\n",
    "                                           ascending=True)[['sin_u_in', 'cos_u_in']].plot()"
   ]
  },
  {
   "cell_type": "code",
   "execution_count": 26,
   "id": "902eca5d",
   "metadata": {
    "execution": {
     "iopub.execute_input": "2021-10-27T12:33:54.089199Z",
     "iopub.status.busy": "2021-10-27T12:33:54.088093Z",
     "iopub.status.idle": "2021-10-27T12:33:54.371686Z",
     "shell.execute_reply": "2021-10-27T12:33:54.372053Z"
    },
    "papermill": {
     "duration": 0.334279,
     "end_time": "2021-10-27T12:33:54.372200",
     "exception": false,
     "start_time": "2021-10-27T12:33:54.037921",
     "status": "completed"
    },
    "tags": []
   },
   "outputs": [
    {
     "data": {
      "text/plain": [
       "<AxesSubplot:>"
      ]
     },
     "execution_count": 26,
     "metadata": {},
     "output_type": "execute_result"
    },
    {
     "data": {
      "image/png": "[encoded data removed]",
      "text/plain": [
       "<Figure size 432x288 with 1 Axes>"
      ]
     },
     "metadata": {
      "needs_background": "light"
     },
     "output_type": "display_data"
    }
   ],
   "source": [
    "train_df.query(\"breath_id==1\").sort_values(['breath_id', 'time_step'],\n",
    "                                           ascending=True)[['sin_time_step', 'cos_time_step']].plot()"
   ]
  },
  {
   "cell_type": "code",
   "execution_count": 27,
   "id": "4b0e3803",
   "metadata": {
    "execution": {
     "iopub.execute_input": "2021-10-27T12:33:54.469980Z",
     "iopub.status.busy": "2021-10-27T12:33:54.468867Z",
     "iopub.status.idle": "2021-10-27T12:33:54.752155Z",
     "shell.execute_reply": "2021-10-27T12:33:54.752603Z"
    },
    "papermill": {
     "duration": 0.333934,
     "end_time": "2021-10-27T12:33:54.752762",
     "exception": false,
     "start_time": "2021-10-27T12:33:54.418828",
     "status": "completed"
    },
    "tags": []
   },
   "outputs": [
    {
     "data": {
      "text/plain": [
       "<AxesSubplot:>"
      ]
     },
     "execution_count": 27,
     "metadata": {},
     "output_type": "execute_result"
    },
    {
     "data": {
      "image/png": "[encoded data removed]",
      "text/plain": [
       "<Figure size 432x288 with 1 Axes>"
      ]
     },
     "metadata": {
      "needs_background": "light"
     },
     "output_type": "display_data"
    }
   ],
   "source": [
    "train_df.query(\"breath_id==1\").sort_values(['breath_id', 'time_step'],\n",
    "                                           ascending=True)[['sin_time_step', 'cos_time_step', 'sin_u_in', 'cos_u_in']].plot()"
   ]
  },
  {
   "cell_type": "code",
   "execution_count": 28,
   "id": "a8c9d4ff",
   "metadata": {
    "execution": {
     "iopub.execute_input": "2021-10-27T12:33:54.854082Z",
     "iopub.status.busy": "2021-10-27T12:33:54.851395Z",
     "iopub.status.idle": "2021-10-27T12:33:55.059105Z",
     "shell.execute_reply": "2021-10-27T12:33:55.058644Z"
    },
    "papermill": {
     "duration": 0.25842,
     "end_time": "2021-10-27T12:33:55.059231",
     "exception": false,
     "start_time": "2021-10-27T12:33:54.800811",
     "status": "completed"
    },
    "tags": []
   },
   "outputs": [],
   "source": [
    "#time_step\n",
    "\n",
    "time_step = test_df['time_step'].copy()\n",
    "\n",
    "sin_time_step = np.sin(2*np.pi*(time_step/3))\n",
    "\n",
    "cos_time_step = np.cos(2*np.pi*(time_step/3))\n",
    "\n",
    "test_df['sin_time_step'] = sin_time_step\n",
    "\n",
    "test_df['cos_time_step'] = cos_time_step"
   ]
  },
  {
   "cell_type": "code",
   "execution_count": 29,
   "id": "e27dadf6",
   "metadata": {
    "execution": {
     "iopub.execute_input": "2021-10-27T12:33:55.160808Z",
     "iopub.status.busy": "2021-10-27T12:33:55.159942Z",
     "iopub.status.idle": "2021-10-27T12:33:55.173993Z",
     "shell.execute_reply": "2021-10-27T12:33:55.173597Z"
    },
    "papermill": {
     "duration": 0.066847,
     "end_time": "2021-10-27T12:33:55.174101",
     "exception": false,
     "start_time": "2021-10-27T12:33:55.107254",
     "status": "completed"
    },
    "tags": []
   },
   "outputs": [
    {
     "data": {
      "text/html": [
       "<div>\n",
       "<style scoped>\n",
       "    .dataframe tbody tr th:only-of-type {\n",
       "        vertical-align: middle;\n",
       "    }\n",
       "\n",
       "    .dataframe tbody tr th {\n",
       "        vertical-align: top;\n",
       "    }\n",
       "\n",
       "    .dataframe thead th {\n",
       "        text-align: right;\n",
       "    }\n",
       "</style>\n",
       "<table border=\"1\" class=\"dataframe\">\n",
       "  <thead>\n",
       "    <tr style=\"text-align: right;\">\n",
       "      <th></th>\n",
       "      <th>id</th>\n",
       "      <th>breath_id</th>\n",
       "      <th>R</th>\n",
       "      <th>C</th>\n",
       "      <th>time_step</th>\n",
       "      <th>u_in</th>\n",
       "      <th>u_out</th>\n",
       "      <th>log_u_in</th>\n",
       "      <th>log_R</th>\n",
       "      <th>log_C</th>\n",
       "      <th>sin_u_in</th>\n",
       "      <th>cos_u_in</th>\n",
       "      <th>sin_time_step</th>\n",
       "      <th>cos_time_step</th>\n",
       "    </tr>\n",
       "  </thead>\n",
       "  <tbody>\n",
       "    <tr>\n",
       "      <th>0</th>\n",
       "      <td>1</td>\n",
       "      <td>0</td>\n",
       "      <td>5</td>\n",
       "      <td>20</td>\n",
       "      <td>0.000000</td>\n",
       "      <td>0.000000</td>\n",
       "      <td>0</td>\n",
       "      <td>-6.907755</td>\n",
       "      <td>1.609638</td>\n",
       "      <td>2.995782</td>\n",
       "      <td>0.000000</td>\n",
       "      <td>0.000000</td>\n",
       "      <td>0.000000</td>\n",
       "      <td>1.000000</td>\n",
       "    </tr>\n",
       "    <tr>\n",
       "      <th>1</th>\n",
       "      <td>2</td>\n",
       "      <td>0</td>\n",
       "      <td>5</td>\n",
       "      <td>20</td>\n",
       "      <td>0.031904</td>\n",
       "      <td>7.515046</td>\n",
       "      <td>0</td>\n",
       "      <td>2.017040</td>\n",
       "      <td>1.609638</td>\n",
       "      <td>2.995782</td>\n",
       "      <td>-0.236770</td>\n",
       "      <td>-7.511315</td>\n",
       "      <td>0.066769</td>\n",
       "      <td>0.997768</td>\n",
       "    </tr>\n",
       "    <tr>\n",
       "      <th>2</th>\n",
       "      <td>3</td>\n",
       "      <td>0</td>\n",
       "      <td>5</td>\n",
       "      <td>20</td>\n",
       "      <td>0.063827</td>\n",
       "      <td>14.651675</td>\n",
       "      <td>0</td>\n",
       "      <td>2.684623</td>\n",
       "      <td>1.609638</td>\n",
       "      <td>2.995782</td>\n",
       "      <td>-9.765618</td>\n",
       "      <td>10.922651</td>\n",
       "      <td>0.133282</td>\n",
       "      <td>0.991078</td>\n",
       "    </tr>\n",
       "    <tr>\n",
       "      <th>3</th>\n",
       "      <td>4</td>\n",
       "      <td>0</td>\n",
       "      <td>5</td>\n",
       "      <td>20</td>\n",
       "      <td>0.095751</td>\n",
       "      <td>21.230610</td>\n",
       "      <td>0</td>\n",
       "      <td>3.055491</td>\n",
       "      <td>1.609638</td>\n",
       "      <td>2.995782</td>\n",
       "      <td>9.860087</td>\n",
       "      <td>18.802061</td>\n",
       "      <td>0.199199</td>\n",
       "      <td>0.979959</td>\n",
       "    </tr>\n",
       "    <tr>\n",
       "      <th>4</th>\n",
       "      <td>5</td>\n",
       "      <td>0</td>\n",
       "      <td>5</td>\n",
       "      <td>20</td>\n",
       "      <td>0.127644</td>\n",
       "      <td>26.320956</td>\n",
       "      <td>0</td>\n",
       "      <td>3.270403</td>\n",
       "      <td>1.609638</td>\n",
       "      <td>2.995782</td>\n",
       "      <td>-26.030842</td>\n",
       "      <td>3.897177</td>\n",
       "      <td>0.264163</td>\n",
       "      <td>0.964478</td>\n",
       "    </tr>\n",
       "  </tbody>\n",
       "</table>\n",
       "</div>"
      ],
      "text/plain": [
       "   id  breath_id  R   C  time_step       u_in  u_out  log_u_in     log_R  \\\n",
       "0   1          0  5  20   0.000000   0.000000      0 -6.907755  1.609638   \n",
       "1   2          0  5  20   0.031904   7.515046      0  2.017040  1.609638   \n",
       "2   3          0  5  20   0.063827  14.651675      0  2.684623  1.609638   \n",
       "3   4          0  5  20   0.095751  21.230610      0  3.055491  1.609638   \n",
       "4   5          0  5  20   0.127644  26.320956      0  3.270403  1.609638   \n",
       "\n",
       "      log_C   sin_u_in   cos_u_in  sin_time_step  cos_time_step  \n",
       "0  2.995782   0.000000   0.000000       0.000000       1.000000  \n",
       "1  2.995782  -0.236770  -7.511315       0.066769       0.997768  \n",
       "2  2.995782  -9.765618  10.922651       0.133282       0.991078  \n",
       "3  2.995782   9.860087  18.802061       0.199199       0.979959  \n",
       "4  2.995782 -26.030842   3.897177       0.264163       0.964478  "
      ]
     },
     "execution_count": 29,
     "metadata": {},
     "output_type": "execute_result"
    }
   ],
   "source": [
    "test_df.head()"
   ]
  },
  {
   "cell_type": "code",
   "execution_count": 30,
   "id": "91f93aa9",
   "metadata": {
    "execution": {
     "iopub.execute_input": "2021-10-27T12:33:55.275374Z",
     "iopub.status.busy": "2021-10-27T12:33:55.274323Z",
     "iopub.status.idle": "2021-10-27T12:33:55.768015Z",
     "shell.execute_reply": "2021-10-27T12:33:55.767499Z"
    },
    "papermill": {
     "duration": 0.546052,
     "end_time": "2021-10-27T12:33:55.768157",
     "exception": false,
     "start_time": "2021-10-27T12:33:55.222105",
     "status": "completed"
    },
    "tags": []
   },
   "outputs": [
    {
     "data": {
      "text/plain": [
       "<AxesSubplot:>"
      ]
     },
     "execution_count": 30,
     "metadata": {},
     "output_type": "execute_result"
    },
    {
     "data": {
      "image/png": "[encoded data removed]",
      "text/plain": [
       "<Figure size 432x288 with 1 Axes>"
      ]
     },
     "metadata": {
      "needs_background": "light"
     },
     "output_type": "display_data"
    }
   ],
   "source": [
    "test_df.query(\"breath_id==0\").sort_values(['breath_id', 'time_step'],\n",
    "                                           ascending=True)[['sin_time_step', 'cos_time_step']].plot()"
   ]
  },
  {
   "cell_type": "code",
   "execution_count": 31,
   "id": "bc40214f",
   "metadata": {
    "execution": {
     "iopub.execute_input": "2021-10-27T12:33:55.881293Z",
     "iopub.status.busy": "2021-10-27T12:33:55.880528Z",
     "iopub.status.idle": "2021-10-27T12:33:55.884676Z",
     "shell.execute_reply": "2021-10-27T12:33:55.885341Z"
    },
    "papermill": {
     "duration": 0.066993,
     "end_time": "2021-10-27T12:33:55.885564",
     "exception": false,
     "start_time": "2021-10-27T12:33:55.818571",
     "status": "completed"
    },
    "tags": []
   },
   "outputs": [
    {
     "name": "stdout",
     "output_type": "stream",
     "text": [
      "<class 'pandas.core.frame.DataFrame'>\n",
      "RangeIndex: 4024000 entries, 0 to 4023999\n",
      "Data columns (total 14 columns):\n",
      " #   Column         Dtype  \n",
      "---  ------         -----  \n",
      " 0   id             int64  \n",
      " 1   breath_id      int64  \n",
      " 2   R              int64  \n",
      " 3   C              int64  \n",
      " 4   time_step      float64\n",
      " 5   u_in           float64\n",
      " 6   u_out          int64  \n",
      " 7   log_u_in       float64\n",
      " 8   log_R          float64\n",
      " 9   log_C          float64\n",
      " 10  sin_u_in       float64\n",
      " 11  cos_u_in       float64\n",
      " 12  sin_time_step  float64\n",
      " 13  cos_time_step  float64\n",
      "dtypes: float64(9), int64(5)\n",
      "memory usage: 429.8 MB\n"
     ]
    }
   ],
   "source": [
    "test_df.info()"
   ]
  },
  {
   "cell_type": "code",
   "execution_count": 32,
   "id": "3b7318b3",
   "metadata": {
    "execution": {
     "iopub.execute_input": "2021-10-27T12:33:56.005120Z",
     "iopub.status.busy": "2021-10-27T12:33:56.003952Z",
     "iopub.status.idle": "2021-10-27T12:33:56.787119Z",
     "shell.execute_reply": "2021-10-27T12:33:56.787610Z"
    },
    "papermill": {
     "duration": 0.846659,
     "end_time": "2021-10-27T12:33:56.787769",
     "exception": false,
     "start_time": "2021-10-27T12:33:55.941110",
     "status": "completed"
    },
    "tags": []
   },
   "outputs": [],
   "source": [
    "#log scale\n",
    "\n",
    "train_df['log_u_in']=np.log(train_df['u_in']+0.001)\n",
    "\n",
    "test_df['log_u_in']=np.log(test_df['u_in']+0.001)\n",
    "\n",
    "train_df['log_R']=np.log(train_df['R']+0.001)\n",
    "\n",
    "test_df['log_R']=np.log(test_df['R']+0.001)\n",
    "\n",
    "train_df['log_C']=np.log(train_df['C']+0.001)\n",
    "\n",
    "test_df['log_C']=np.log(test_df['C']+0.001)"
   ]
  },
  {
   "cell_type": "code",
   "execution_count": 33,
   "id": "0a0f8c9b",
   "metadata": {
    "execution": {
     "iopub.execute_input": "2021-10-27T12:33:56.896897Z",
     "iopub.status.busy": "2021-10-27T12:33:56.895160Z",
     "iopub.status.idle": "2021-10-27T12:33:56.897485Z",
     "shell.execute_reply": "2021-10-27T12:33:56.897930Z"
    },
    "papermill": {
     "duration": 0.058233,
     "end_time": "2021-10-27T12:33:56.898070",
     "exception": false,
     "start_time": "2021-10-27T12:33:56.839837",
     "status": "completed"
    },
    "tags": []
   },
   "outputs": [],
   "source": [
    "target = ['pressure']\n",
    "features = ['log_R', 'log_C', 'sin_u_in', 'cos_u_in', 'u_out', 'sin_time_step', 'cos_time_step']\n",
    "# features = ['R', 'C', 'u_in', 'u_out', 'sin_time_step', 'cos_time_step']\n",
    "# features = ['log_R', 'log_C', 'log_u_in', 'u_out', 'sin_time_step', 'cos_time_step', 'u_out']"
   ]
  },
  {
   "cell_type": "code",
   "execution_count": 34,
   "id": "2cd786c6",
   "metadata": {
    "execution": {
     "iopub.execute_input": "2021-10-27T12:33:57.004287Z",
     "iopub.status.busy": "2021-10-27T12:33:57.003173Z",
     "iopub.status.idle": "2021-10-27T12:33:57.430729Z",
     "shell.execute_reply": "2021-10-27T12:33:57.431133Z"
    },
    "papermill": {
     "duration": 0.482244,
     "end_time": "2021-10-27T12:33:57.431278",
     "exception": false,
     "start_time": "2021-10-27T12:33:56.949034",
     "status": "completed"
    },
    "tags": []
   },
   "outputs": [
    {
     "data": {
      "text/plain": [
       "<AxesSubplot:>"
      ]
     },
     "execution_count": 34,
     "metadata": {},
     "output_type": "execute_result"
    },
    {
     "data": {
      "image/png": "[encoded data removed]",
      "text/plain": [
       "<Figure size 432x288 with 1 Axes>"
      ]
     },
     "metadata": {
      "needs_background": "light"
     },
     "output_type": "display_data"
    }
   ],
   "source": [
    "train_df.query(\"breath_id==2\").sort_values(['breath_id', 'time_step'],\n",
    "                                           ascending=True)[['u_in', 'pressure']].plot()"
   ]
  },
  {
   "cell_type": "code",
   "execution_count": 35,
   "id": "1dac3830",
   "metadata": {
    "execution": {
     "iopub.execute_input": "2021-10-27T12:33:57.539778Z",
     "iopub.status.busy": "2021-10-27T12:33:57.539152Z",
     "iopub.status.idle": "2021-10-27T12:33:57.885032Z",
     "shell.execute_reply": "2021-10-27T12:33:57.884195Z"
    },
    "papermill": {
     "duration": 0.401812,
     "end_time": "2021-10-27T12:33:57.885171",
     "exception": false,
     "start_time": "2021-10-27T12:33:57.483359",
     "status": "completed"
    },
    "tags": []
   },
   "outputs": [
    {
     "data": {
      "text/plain": [
       "<AxesSubplot:>"
      ]
     },
     "execution_count": 35,
     "metadata": {},
     "output_type": "execute_result"
    },
    {
     "data": {
      "image/png": "[encoded data removed]",
      "text/plain": [
       "<Figure size 432x288 with 1 Axes>"
      ]
     },
     "metadata": {
      "needs_background": "light"
     },
     "output_type": "display_data"
    }
   ],
   "source": [
    "train_df.query(\"breath_id==2\").sort_values(['breath_id', 'time_step'],\n",
    "                                           ascending=True)[['sin_u_in', 'cos_u_in', 'log_R', 'log_C', 'u_out', 'sin_time_step', 'cos_time_step']].plot()\n"
   ]
  },
  {
   "cell_type": "code",
   "execution_count": 36,
   "id": "403d6217",
   "metadata": {
    "execution": {
     "iopub.execute_input": "2021-10-27T12:33:57.998724Z",
     "iopub.status.busy": "2021-10-27T12:33:57.997844Z",
     "iopub.status.idle": "2021-10-27T12:33:58.260660Z",
     "shell.execute_reply": "2021-10-27T12:33:58.260169Z"
    },
    "papermill": {
     "duration": 0.321402,
     "end_time": "2021-10-27T12:33:58.260789",
     "exception": false,
     "start_time": "2021-10-27T12:33:57.939387",
     "status": "completed"
    },
    "tags": []
   },
   "outputs": [
    {
     "data": {
      "text/plain": [
       "Series([], dtype: int64)"
      ]
     },
     "execution_count": 36,
     "metadata": {},
     "output_type": "execute_result"
    }
   ],
   "source": [
    "train_df.groupby(by=['breath_id']).size()[train_df.groupby(by=['breath_id']).size()>80]"
   ]
  },
  {
   "cell_type": "code",
   "execution_count": 37,
   "id": "81ea307d",
   "metadata": {
    "execution": {
     "iopub.execute_input": "2021-10-27T12:33:58.373230Z",
     "iopub.status.busy": "2021-10-27T12:33:58.372415Z",
     "iopub.status.idle": "2021-10-27T12:33:58.539318Z",
     "shell.execute_reply": "2021-10-27T12:33:58.539704Z"
    },
    "papermill": {
     "duration": 0.225474,
     "end_time": "2021-10-27T12:33:58.539857",
     "exception": false,
     "start_time": "2021-10-27T12:33:58.314383",
     "status": "completed"
    },
    "tags": []
   },
   "outputs": [
    {
     "data": {
      "text/plain": [
       "Series([], dtype: int64)"
      ]
     },
     "execution_count": 37,
     "metadata": {},
     "output_type": "execute_result"
    }
   ],
   "source": [
    "test_df.groupby(by=['breath_id']).size()[test_df.groupby(by=['breath_id']).size()<80]"
   ]
  },
  {
   "cell_type": "markdown",
   "id": "b06bc1b8",
   "metadata": {
    "papermill": {
     "duration": 0.053917,
     "end_time": "2021-10-27T12:33:58.647744",
     "exception": false,
     "start_time": "2021-10-27T12:33:58.593827",
     "status": "completed"
    },
    "tags": []
   },
   "source": [
    "Each secuence has 80 points or timesteps\n",
    "\n",
    "Dataset has 1 row per timestep \n",
    "\n",
    "the first 80 rows belong to the first series. My window lenght is 80 and the stride is 80 with 4 features."
   ]
  },
  {
   "cell_type": "code",
   "execution_count": 38,
   "id": "a7314621",
   "metadata": {
    "execution": {
     "iopub.execute_input": "2021-10-27T12:33:58.771662Z",
     "iopub.status.busy": "2021-10-27T12:33:58.770982Z",
     "iopub.status.idle": "2021-10-27T12:33:58.773778Z",
     "shell.execute_reply": "2021-10-27T12:33:58.774175Z"
    },
    "papermill": {
     "duration": 0.072491,
     "end_time": "2021-10-27T12:33:58.774306",
     "exception": false,
     "start_time": "2021-10-27T12:33:58.701815",
     "status": "completed"
    },
    "tags": []
   },
   "outputs": [
    {
     "data": {
      "text/html": [
       "<div>\n",
       "<style scoped>\n",
       "    .dataframe tbody tr th:only-of-type {\n",
       "        vertical-align: middle;\n",
       "    }\n",
       "\n",
       "    .dataframe tbody tr th {\n",
       "        vertical-align: top;\n",
       "    }\n",
       "\n",
       "    .dataframe thead th {\n",
       "        text-align: right;\n",
       "    }\n",
       "</style>\n",
       "<table border=\"1\" class=\"dataframe\">\n",
       "  <thead>\n",
       "    <tr style=\"text-align: right;\">\n",
       "      <th></th>\n",
       "      <th>id</th>\n",
       "      <th>breath_id</th>\n",
       "      <th>R</th>\n",
       "      <th>C</th>\n",
       "      <th>time_step</th>\n",
       "      <th>u_in</th>\n",
       "      <th>u_out</th>\n",
       "      <th>log_u_in</th>\n",
       "      <th>log_R</th>\n",
       "      <th>log_C</th>\n",
       "      <th>sin_u_in</th>\n",
       "      <th>cos_u_in</th>\n",
       "      <th>sin_time_step</th>\n",
       "      <th>cos_time_step</th>\n",
       "    </tr>\n",
       "  </thead>\n",
       "  <tbody>\n",
       "    <tr>\n",
       "      <th>0</th>\n",
       "      <td>1</td>\n",
       "      <td>0</td>\n",
       "      <td>5</td>\n",
       "      <td>20</td>\n",
       "      <td>0.000000</td>\n",
       "      <td>0.000000</td>\n",
       "      <td>0</td>\n",
       "      <td>-6.907755</td>\n",
       "      <td>1.609638</td>\n",
       "      <td>2.995782</td>\n",
       "      <td>0.000000</td>\n",
       "      <td>0.000000</td>\n",
       "      <td>0.000000</td>\n",
       "      <td>1.000000</td>\n",
       "    </tr>\n",
       "    <tr>\n",
       "      <th>1</th>\n",
       "      <td>2</td>\n",
       "      <td>0</td>\n",
       "      <td>5</td>\n",
       "      <td>20</td>\n",
       "      <td>0.031904</td>\n",
       "      <td>7.515046</td>\n",
       "      <td>0</td>\n",
       "      <td>2.017040</td>\n",
       "      <td>1.609638</td>\n",
       "      <td>2.995782</td>\n",
       "      <td>-0.236770</td>\n",
       "      <td>-7.511315</td>\n",
       "      <td>0.066769</td>\n",
       "      <td>0.997768</td>\n",
       "    </tr>\n",
       "    <tr>\n",
       "      <th>2</th>\n",
       "      <td>3</td>\n",
       "      <td>0</td>\n",
       "      <td>5</td>\n",
       "      <td>20</td>\n",
       "      <td>0.063827</td>\n",
       "      <td>14.651675</td>\n",
       "      <td>0</td>\n",
       "      <td>2.684623</td>\n",
       "      <td>1.609638</td>\n",
       "      <td>2.995782</td>\n",
       "      <td>-9.765618</td>\n",
       "      <td>10.922651</td>\n",
       "      <td>0.133282</td>\n",
       "      <td>0.991078</td>\n",
       "    </tr>\n",
       "    <tr>\n",
       "      <th>3</th>\n",
       "      <td>4</td>\n",
       "      <td>0</td>\n",
       "      <td>5</td>\n",
       "      <td>20</td>\n",
       "      <td>0.095751</td>\n",
       "      <td>21.230610</td>\n",
       "      <td>0</td>\n",
       "      <td>3.055491</td>\n",
       "      <td>1.609638</td>\n",
       "      <td>2.995782</td>\n",
       "      <td>9.860087</td>\n",
       "      <td>18.802061</td>\n",
       "      <td>0.199199</td>\n",
       "      <td>0.979959</td>\n",
       "    </tr>\n",
       "    <tr>\n",
       "      <th>4</th>\n",
       "      <td>5</td>\n",
       "      <td>0</td>\n",
       "      <td>5</td>\n",
       "      <td>20</td>\n",
       "      <td>0.127644</td>\n",
       "      <td>26.320956</td>\n",
       "      <td>0</td>\n",
       "      <td>3.270403</td>\n",
       "      <td>1.609638</td>\n",
       "      <td>2.995782</td>\n",
       "      <td>-26.030842</td>\n",
       "      <td>3.897177</td>\n",
       "      <td>0.264163</td>\n",
       "      <td>0.964478</td>\n",
       "    </tr>\n",
       "  </tbody>\n",
       "</table>\n",
       "</div>"
      ],
      "text/plain": [
       "   id  breath_id  R   C  time_step       u_in  u_out  log_u_in     log_R  \\\n",
       "0   1          0  5  20   0.000000   0.000000      0 -6.907755  1.609638   \n",
       "1   2          0  5  20   0.031904   7.515046      0  2.017040  1.609638   \n",
       "2   3          0  5  20   0.063827  14.651675      0  2.684623  1.609638   \n",
       "3   4          0  5  20   0.095751  21.230610      0  3.055491  1.609638   \n",
       "4   5          0  5  20   0.127644  26.320956      0  3.270403  1.609638   \n",
       "\n",
       "      log_C   sin_u_in   cos_u_in  sin_time_step  cos_time_step  \n",
       "0  2.995782   0.000000   0.000000       0.000000       1.000000  \n",
       "1  2.995782  -0.236770  -7.511315       0.066769       0.997768  \n",
       "2  2.995782  -9.765618  10.922651       0.133282       0.991078  \n",
       "3  2.995782   9.860087  18.802061       0.199199       0.979959  \n",
       "4  2.995782 -26.030842   3.897177       0.264163       0.964478  "
      ]
     },
     "execution_count": 38,
     "metadata": {},
     "output_type": "execute_result"
    }
   ],
   "source": [
    "test_df.head()"
   ]
  },
  {
   "cell_type": "code",
   "execution_count": 39,
   "id": "edf640c5",
   "metadata": {
    "execution": {
     "iopub.execute_input": "2021-10-27T12:33:58.889964Z",
     "iopub.status.busy": "2021-10-27T12:33:58.889061Z",
     "iopub.status.idle": "2021-10-27T12:34:08.890249Z",
     "shell.execute_reply": "2021-10-27T12:34:08.889356Z"
    },
    "papermill": {
     "duration": 10.061525,
     "end_time": "2021-10-27T12:34:08.890388",
     "exception": false,
     "start_time": "2021-10-27T12:33:58.828863",
     "status": "completed"
    },
    "tags": []
   },
   "outputs": [],
   "source": [
    "# First thing should be to order the dataset by breath_id and time_step\n",
    "\n",
    "train_ordered_features_df = train_df.sort_values(['id', 'breath_id', 'time_step'], ascending=True)[features].copy()\n",
    "\n",
    "test_ordered_features_df = test_df.sort_values(['id', 'breath_id', 'time_step'], ascending=True)[features].copy()"
   ]
  },
  {
   "cell_type": "code",
   "execution_count": 40,
   "id": "558d91d6",
   "metadata": {
    "execution": {
     "iopub.execute_input": "2021-10-27T12:34:09.014488Z",
     "iopub.status.busy": "2021-10-27T12:34:09.013798Z",
     "iopub.status.idle": "2021-10-27T12:34:09.016605Z",
     "shell.execute_reply": "2021-10-27T12:34:09.017004Z"
    },
    "papermill": {
     "duration": 0.070525,
     "end_time": "2021-10-27T12:34:09.017137",
     "exception": false,
     "start_time": "2021-10-27T12:34:08.946612",
     "status": "completed"
    },
    "tags": []
   },
   "outputs": [
    {
     "data": {
      "text/html": [
       "<div>\n",
       "<style scoped>\n",
       "    .dataframe tbody tr th:only-of-type {\n",
       "        vertical-align: middle;\n",
       "    }\n",
       "\n",
       "    .dataframe tbody tr th {\n",
       "        vertical-align: top;\n",
       "    }\n",
       "\n",
       "    .dataframe thead th {\n",
       "        text-align: right;\n",
       "    }\n",
       "</style>\n",
       "<table border=\"1\" class=\"dataframe\">\n",
       "  <thead>\n",
       "    <tr style=\"text-align: right;\">\n",
       "      <th></th>\n",
       "      <th>log_R</th>\n",
       "      <th>log_C</th>\n",
       "      <th>sin_u_in</th>\n",
       "      <th>cos_u_in</th>\n",
       "      <th>u_out</th>\n",
       "      <th>sin_time_step</th>\n",
       "      <th>cos_time_step</th>\n",
       "    </tr>\n",
       "  </thead>\n",
       "  <tbody>\n",
       "    <tr>\n",
       "      <th>0</th>\n",
       "      <td>2.995782</td>\n",
       "      <td>3.912043</td>\n",
       "      <td>0.014471</td>\n",
       "      <td>0.082068</td>\n",
       "      <td>0</td>\n",
       "      <td>0.000000</td>\n",
       "      <td>1.000000</td>\n",
       "    </tr>\n",
       "    <tr>\n",
       "      <th>1</th>\n",
       "      <td>2.995782</td>\n",
       "      <td>3.912043</td>\n",
       "      <td>13.215845</td>\n",
       "      <td>12.778014</td>\n",
       "      <td>0</td>\n",
       "      <td>0.070423</td>\n",
       "      <td>0.997517</td>\n",
       "    </tr>\n",
       "    <tr>\n",
       "      <th>2</th>\n",
       "      <td>2.995782</td>\n",
       "      <td>3.912043</td>\n",
       "      <td>-0.437357</td>\n",
       "      <td>-22.505028</td>\n",
       "      <td>0</td>\n",
       "      <td>0.140931</td>\n",
       "      <td>0.990019</td>\n",
       "    </tr>\n",
       "    <tr>\n",
       "      <th>3</th>\n",
       "      <td>2.995782</td>\n",
       "      <td>3.912043</td>\n",
       "      <td>-13.745338</td>\n",
       "      <td>-18.201870</td>\n",
       "      <td>0</td>\n",
       "      <td>0.211070</td>\n",
       "      <td>0.977471</td>\n",
       "    </tr>\n",
       "    <tr>\n",
       "      <th>4</th>\n",
       "      <td>2.995782</td>\n",
       "      <td>3.912043</td>\n",
       "      <td>7.539333</td>\n",
       "      <td>-24.209040</td>\n",
       "      <td>0</td>\n",
       "      <td>0.280510</td>\n",
       "      <td>0.959851</td>\n",
       "    </tr>\n",
       "    <tr>\n",
       "      <th>5</th>\n",
       "      <td>2.995782</td>\n",
       "      <td>3.912043</td>\n",
       "      <td>14.114795</td>\n",
       "      <td>23.321081</td>\n",
       "      <td>0</td>\n",
       "      <td>0.347979</td>\n",
       "      <td>0.937502</td>\n",
       "    </tr>\n",
       "    <tr>\n",
       "      <th>6</th>\n",
       "      <td>2.995782</td>\n",
       "      <td>3.912043</td>\n",
       "      <td>7.157426</td>\n",
       "      <td>26.166233</td>\n",
       "      <td>0</td>\n",
       "      <td>0.413819</td>\n",
       "      <td>0.910359</td>\n",
       "    </tr>\n",
       "    <tr>\n",
       "      <th>7</th>\n",
       "      <td>2.995782</td>\n",
       "      <td>3.912043</td>\n",
       "      <td>-10.505698</td>\n",
       "      <td>24.663430</td>\n",
       "      <td>0</td>\n",
       "      <td>0.477568</td>\n",
       "      <td>0.878595</td>\n",
       "    </tr>\n",
       "    <tr>\n",
       "      <th>8</th>\n",
       "      <td>2.995782</td>\n",
       "      <td>3.912043</td>\n",
       "      <td>27.064337</td>\n",
       "      <td>-6.630536</td>\n",
       "      <td>0</td>\n",
       "      <td>0.538964</td>\n",
       "      <td>0.842329</td>\n",
       "    </tr>\n",
       "    <tr>\n",
       "      <th>9</th>\n",
       "      <td>2.995782</td>\n",
       "      <td>3.912043</td>\n",
       "      <td>10.805570</td>\n",
       "      <td>-26.169976</td>\n",
       "      <td>0</td>\n",
       "      <td>0.597455</td>\n",
       "      <td>0.801903</td>\n",
       "    </tr>\n",
       "  </tbody>\n",
       "</table>\n",
       "</div>"
      ],
      "text/plain": [
       "      log_R     log_C   sin_u_in   cos_u_in  u_out  sin_time_step  \\\n",
       "0  2.995782  3.912043   0.014471   0.082068      0       0.000000   \n",
       "1  2.995782  3.912043  13.215845  12.778014      0       0.070423   \n",
       "2  2.995782  3.912043  -0.437357 -22.505028      0       0.140931   \n",
       "3  2.995782  3.912043 -13.745338 -18.201870      0       0.211070   \n",
       "4  2.995782  3.912043   7.539333 -24.209040      0       0.280510   \n",
       "5  2.995782  3.912043  14.114795  23.321081      0       0.347979   \n",
       "6  2.995782  3.912043   7.157426  26.166233      0       0.413819   \n",
       "7  2.995782  3.912043 -10.505698  24.663430      0       0.477568   \n",
       "8  2.995782  3.912043  27.064337  -6.630536      0       0.538964   \n",
       "9  2.995782  3.912043  10.805570 -26.169976      0       0.597455   \n",
       "\n",
       "   cos_time_step  \n",
       "0       1.000000  \n",
       "1       0.997517  \n",
       "2       0.990019  \n",
       "3       0.977471  \n",
       "4       0.959851  \n",
       "5       0.937502  \n",
       "6       0.910359  \n",
       "7       0.878595  \n",
       "8       0.842329  \n",
       "9       0.801903  "
      ]
     },
     "execution_count": 40,
     "metadata": {},
     "output_type": "execute_result"
    }
   ],
   "source": [
    "train_ordered_features_df.head(10)"
   ]
  },
  {
   "cell_type": "code",
   "execution_count": 41,
   "id": "272eb7e1",
   "metadata": {
    "execution": {
     "iopub.execute_input": "2021-10-27T12:34:09.131302Z",
     "iopub.status.busy": "2021-10-27T12:34:09.130518Z",
     "iopub.status.idle": "2021-10-27T12:34:09.133814Z",
     "shell.execute_reply": "2021-10-27T12:34:09.134241Z"
    },
    "papermill": {
     "duration": 0.061739,
     "end_time": "2021-10-27T12:34:09.134364",
     "exception": false,
     "start_time": "2021-10-27T12:34:09.072625",
     "status": "completed"
    },
    "tags": []
   },
   "outputs": [],
   "source": [
    "# Those 2 should be the same"
   ]
  },
  {
   "cell_type": "code",
   "execution_count": 42,
   "id": "b2662f33",
   "metadata": {
    "execution": {
     "iopub.execute_input": "2021-10-27T12:34:09.250236Z",
     "iopub.status.busy": "2021-10-27T12:34:09.249367Z",
     "iopub.status.idle": "2021-10-27T12:34:15.238873Z",
     "shell.execute_reply": "2021-10-27T12:34:15.238380Z"
    },
    "papermill": {
     "duration": 6.049123,
     "end_time": "2021-10-27T12:34:15.239017",
     "exception": false,
     "start_time": "2021-10-27T12:34:09.189894",
     "status": "completed"
    },
    "tags": []
   },
   "outputs": [],
   "source": [
    "train_ordered_target_df = train_df.sort_values(['id', 'breath_id', 'time_step'], ascending=True)[target].copy()"
   ]
  },
  {
   "cell_type": "code",
   "execution_count": 43,
   "id": "4a242e18",
   "metadata": {
    "execution": {
     "iopub.execute_input": "2021-10-27T12:34:15.360725Z",
     "iopub.status.busy": "2021-10-27T12:34:15.360192Z",
     "iopub.status.idle": "2021-10-27T12:34:15.365014Z",
     "shell.execute_reply": "2021-10-27T12:34:15.365383Z"
    },
    "papermill": {
     "duration": 0.070483,
     "end_time": "2021-10-27T12:34:15.365514",
     "exception": false,
     "start_time": "2021-10-27T12:34:15.295031",
     "status": "completed"
    },
    "tags": []
   },
   "outputs": [
    {
     "name": "stdout",
     "output_type": "stream",
     "text": [
      "<class 'pandas.core.frame.DataFrame'>\n",
      "Int64Index: 6036000 entries, 0 to 6035999\n",
      "Data columns (total 7 columns):\n",
      " #   Column         Dtype  \n",
      "---  ------         -----  \n",
      " 0   log_R          float64\n",
      " 1   log_C          float64\n",
      " 2   sin_u_in       float64\n",
      " 3   cos_u_in       float64\n",
      " 4   u_out          int64  \n",
      " 5   sin_time_step  float64\n",
      " 6   cos_time_step  float64\n",
      "dtypes: float64(6), int64(1)\n",
      "memory usage: 368.4 MB\n"
     ]
    }
   ],
   "source": [
    "train_ordered_features_df.info()"
   ]
  }
 ],
 "metadata": {
  "kernelspec": {
   "display_name": "base",
   "language": "python",
   "name": "python3"
  },
  "language_info": {
   "codemirror_mode": {
    "name": "ipython",
    "version": 3
   },
   "file_extension": ".py",
   "mimetype": "text/x-python",
   "name": "python",
   "nbconvert_exporter": "python",
   "pygments_lexer": "ipython3",
   "version": "3.9.15 | packaged by conda-forge | (main, Nov 22 2022, 08:48:25) \n[Clang 14.0.6 ]"
  },
  "papermill": {
   "default_parameters": {},
   "duration": 28700.567961,
   "end_time": "2021-10-27T20:31:40.962263",
   "environment_variables": {},
   "exception": null,
   "input_path": "__notebook__.ipynb",
   "output_path": "__notebook__.ipynb",
   "parameters": {},
   "start_time": "2021-10-27T12:33:20.394302",
   "version": "2.3.3"
  },
  "vscode": {
   "interpreter": {
    "hash": "5e3bc487293aaf1ea890fc3644b24cff5f3348eb3d135a8a8d51485957d009e3"
   }
  }
 },
 "nbformat": 4,
 "nbformat_minor": 5
}
